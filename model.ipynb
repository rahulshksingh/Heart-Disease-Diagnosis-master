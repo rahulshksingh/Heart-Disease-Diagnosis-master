{
 "cells": [
  {
   "cell_type": "code",
   "execution_count": 1,
   "metadata": {},
   "outputs": [
    {
     "name": "stderr",
     "output_type": "stream",
     "text": [
      "C:\\Users\\rkuma434\\AppData\\Local\\Continuum\\anaconda3\\lib\\site-packages\\sklearn\\externals\\joblib\\__init__.py:15: DeprecationWarning: sklearn.externals.joblib is deprecated in 0.21 and will be removed in 0.23. Please import this functionality directly from joblib, which can be installed with: pip install joblib. If this warning is raised when loading pickled models, you may need to re-serialize those models with scikit-learn 0.21+.\n",
      "  warnings.warn(msg, category=DeprecationWarning)\n"
     ]
    },
    {
     "name": "stdout",
     "output_type": "stream",
     "text": [
      "Average test Accuracy:0.5458515283842794\n",
      "Average binary accuracy:0.7947598253275107\n"
     ]
    },
    {
     "name": "stderr",
     "output_type": "stream",
     "text": [
      "C:\\Users\\rkuma434\\AppData\\Local\\Continuum\\anaconda3\\lib\\site-packages\\sklearn\\ensemble\\forest.py:245: FutureWarning: The default value of n_estimators will change from 10 in version 0.20 to 100 in 0.22.\n",
      "  \"10 in version 0.20 to 100 in 0.22.\", FutureWarning)\n"
     ]
    }
   ],
   "source": [
    "from sklearn.svm import SVC, LinearSVC\n",
    "from sklearn.preprocessing import MinMaxScaler\n",
    "from sklearn.ensemble import RandomForestClassifier\n",
    "from sklearn.naive_bayes import GaussianNB\n",
    "from sklearn.externals import joblib\n",
    "import numpy as np\n",
    "import pandas as pd\n",
    "import pickle\n",
    "import os\n",
    "from sklearn.metrics import accuracy_score\n",
    "from sklearn.model_selection import train_test_split\n",
    "\n",
    "root = os.path.dirname(\"\")\n",
    "path_df = os.path.join(root, 'recons_dataset/combined_dataset.csv')\n",
    "data = pd.read_csv(path_df)\n",
    "\n",
    "scaler = MinMaxScaler()\n",
    "train, test = train_test_split(data, test_size=0.25)\n",
    "\n",
    "X_train = train.drop('num', axis=1)\n",
    "Y_train = train['num']\n",
    "\n",
    "X_test = test.drop('num', axis=1)\n",
    "Y_test = test['num']\n",
    "\n",
    "# We don't scale targets: Y_test, Y_train as SVC returns the class labels not probability values\n",
    "X_train = scaler.fit_transform(X_train)\n",
    "X_test = scaler.fit_transform(X_test)\n",
    "\n",
    "clf = RandomForestClassifier()\n",
    "\n",
    "# Training the classifier\n",
    "clf.fit(X_train, Y_train)\n",
    "\n",
    "# Testing model accuracy. Average is taken as test set is very small hence accuracy varies a lot everytime the model is trained\n",
    "acc = 0\n",
    "acc_binary = 0\n",
    "for i in range(0, 20):\n",
    "    Y_hat = clf.predict(X_test)\n",
    "    Y_hat_bin = Y_hat>0\n",
    "    Y_test_bin = Y_test>0\n",
    "    acc = acc + accuracy_score(Y_hat, Y_test)\n",
    "    acc_binary = acc_binary +accuracy_score(Y_hat_bin, Y_test_bin)\n",
    "\n",
    "print(\"Average test Accuracy:{}\".format(acc/20))\n",
    "print(\"Average binary accuracy:{}\".format(acc_binary/20))\n",
    "\n",
    "# Saving the trained model for inference\n",
    "model_path = os.path.join(root, 'models/rfc.sav')\n",
    "joblib.dump(clf, model_path)\n",
    "\n",
    "# Saving the scaler object\n",
    "scaler_path = os.path.join(root, 'models/scaler.pkl')\n",
    "with open(scaler_path, 'wb') as scaler_file:\n",
    "    pickle.dump(scaler, scaler_file)\n"
   ]
  },
  {
   "cell_type": "code",
   "execution_count": null,
   "metadata": {},
   "outputs": [],
   "source": []
  }
 ],
 "metadata": {
  "kernelspec": {
   "display_name": "Python 3",
   "language": "python",
   "name": "python3"
  },
  "language_info": {
   "codemirror_mode": {
    "name": "ipython",
    "version": 3
   },
   "file_extension": ".py",
   "mimetype": "text/x-python",
   "name": "python",
   "nbconvert_exporter": "python",
   "pygments_lexer": "ipython3",
   "version": "3.7.4"
  }
 },
 "nbformat": 4,
 "nbformat_minor": 2
}

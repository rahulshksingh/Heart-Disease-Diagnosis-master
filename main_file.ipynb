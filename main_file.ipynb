{
 "cells": [
  {
   "cell_type": "code",
   "execution_count": null,
   "metadata": {
    "scrolled": true
   },
   "outputs": [
    {
     "name": "stdout",
     "output_type": "stream",
     "text": [
      " * Serving Flask app \"__main__\" (lazy loading)\n",
      " * Environment: production\n",
      "   WARNING: This is a development server. Do not use it in a production deployment.\n",
      "   Use a production WSGI server instead.\n",
      " * Debug mode: off\n"
     ]
    },
    {
     "name": "stderr",
     "output_type": "stream",
     "text": [
      "C:\\Users\\rkuma434\\AppData\\Local\\Continuum\\anaconda3\\lib\\site-packages\\sklearn\\externals\\joblib\\__init__.py:15: DeprecationWarning: sklearn.externals.joblib is deprecated in 0.21 and will be removed in 0.23. Please import this functionality directly from joblib, which can be installed with: pip install joblib. If this warning is raised when loading pickled models, you may need to re-serialize those models with scikit-learn 0.21+.\n",
      "  warnings.warn(msg, category=DeprecationWarning)\n",
      " * Running on http://127.0.0.1:5000/ (Press CTRL+C to quit)\n",
      "127.0.0.1 - - [26/Dec/2019 12:33:35] \"GET / HTTP/1.1\" 200 -\n",
      "127.0.0.1 - - [26/Dec/2019 12:33:38] \"GET /about HTTP/1.1\" 200 -\n"
     ]
    }
   ],
   "source": [
    "from flask import Flask, render_template, url_for, request\n",
    "from sklearn.externals import joblib\n",
    "import os\n",
    "import numpy as np\n",
    "import pickle\n",
    "\n",
    "app = Flask(__name__, static_folder='static')\n",
    "\n",
    "@app.route(\"/\")\n",
    "def index():\n",
    "    return render_template('home.html')\n",
    "\n",
    "\n",
    "@app.route('/result', methods=['POST', 'GET'])\n",
    "def result():\n",
    "    age = int(request.form['age'])\n",
    "    sex = int(request.form['sex'])\n",
    "    trestbps = float(request.form['trestbps'])\n",
    "    chol = float(request.form['chol'])\n",
    "    restecg = float(request.form['restecg'])\n",
    "    thalach = float(request.form['thalach'])\n",
    "    exang = int(request.form['exang'])\n",
    "    cp = int(request.form['cp'])\n",
    "    fbs = float(request.form['fbs'])\n",
    "    x = np.array([age, sex, cp, trestbps, chol, fbs, restecg,\n",
    "                  thalach, exang]).reshape(1, -1)\n",
    "\n",
    "    scaler_path = os.path.join(os.path.dirname(\"\"), 'models/scaler.pkl')\n",
    "    scaler = None\n",
    "    with open(scaler_path, 'rb') as f:\n",
    "        scaler = pickle.load(f)\n",
    "\n",
    "    x = scaler.transform(x)\n",
    "\n",
    "    model_path = os.path.join(os.path.dirname(\"\"), 'models/rfc.sav')\n",
    "    clf = joblib.load(model_path)\n",
    "\n",
    "    y = clf.predict(x)\n",
    "    print(y)\n",
    "\n",
    "    # No heart disease\n",
    "    if y == 0:\n",
    "        return render_template('nodisease.html')\n",
    "\n",
    "    # y=1,2,4,4 are stages of heart disease\n",
    "    else:\n",
    "        return render_template('heartdisease.htm', stage=int(y))\n",
    "\n",
    "\n",
    "@app.route('/about')\n",
    "def about():\n",
    "    return render_template('about.html')\n",
    "\n",
    "\n",
    "if __name__ == \"__main__\":\n",
    "    app.run()\n"
   ]
  },
  {
   "cell_type": "code",
   "execution_count": null,
   "metadata": {},
   "outputs": [],
   "source": []
  }
 ],
 "metadata": {
  "kernelspec": {
   "display_name": "Python 3",
   "language": "python",
   "name": "python3"
  },
  "language_info": {
   "codemirror_mode": {
    "name": "ipython",
    "version": 3
   },
   "file_extension": ".py",
   "mimetype": "text/x-python",
   "name": "python",
   "nbconvert_exporter": "python",
   "pygments_lexer": "ipython3",
   "version": "3.7.4"
  }
 },
 "nbformat": 4,
 "nbformat_minor": 2
}
